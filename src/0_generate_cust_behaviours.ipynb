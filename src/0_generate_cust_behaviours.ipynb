{
 "metadata": {
  "language_info": {
   "codemirror_mode": {
    "name": "ipython",
    "version": 3
   },
   "file_extension": ".py",
   "mimetype": "text/x-python",
   "name": "python",
   "nbconvert_exporter": "python",
   "pygments_lexer": "ipython3",
   "version": "3.7.9-final"
  },
  "orig_nbformat": 2,
  "kernelspec": {
   "name": "python3",
   "display_name": "Python 3.7.9 64-bit ('DSND': conda)",
   "metadata": {
    "interpreter": {
     "hash": "8576bccae4cb9e17b2bee3a523a1859144fa7199d902a74a12fa03f03882d016"
    }
   }
  }
 },
 "nbformat": 4,
 "nbformat_minor": 2,
 "cells": [
  {
   "source": [
    "# Generate synthetic data \n",
    "\n",
    "Generation of synthetic data is required to protect private information. Data will be generated for two aspects of the model: \n",
    "\n",
    "* Synthetic production of converted customer flags\n",
    "* Synthetic customer behaviour in the specified columns"
   ],
   "cell_type": "markdown",
   "metadata": {}
  },
  {
   "source": [
    "Import Libraries and sqlite dB engine"
   ],
   "cell_type": "markdown",
   "metadata": {}
  },
  {
   "cell_type": "code",
   "execution_count": null,
   "metadata": {},
   "outputs": [],
   "source": [
    "import numpy as np \n",
    "import pandas as pd\n",
    "import sklearn.datasets as dt \n",
    "\n",
    "from sqlalchemy import create_engine"
   ]
  },
  {
   "cell_type": "code",
   "execution_count": null,
   "metadata": {},
   "outputs": [],
   "source": [
    "engine = create_engine('sqlite:///../data/orgs_customer_behaviours.db')"
   ]
  },
  {
   "source": [
    "## Generate synthetic converted customers"
   ],
   "cell_type": "markdown",
   "metadata": {}
  },
  {
   "cell_type": "code",
   "execution_count": null,
   "metadata": {},
   "outputs": [],
   "source": [
    "df_org = pd.read_csv('../data/hd2019.csv', encoding='latin1')\n",
    "synth_conversion = np.random.choice(['0','1'], len(df_org))\n",
    "org_column_names = list(df_org.columns)\n",
    "org_column_names.remove('UNITID')\n",
    "df_org_unitid = df_org.drop(org_column_names, axis=1)\n",
    "df_org_unitid.insert(1, 'CONVERTED', synth_conversion)\n",
    "df_org_data = df_org.merge(df_org_unitid, how='left', on='UNITID')\n",
    "df_org_data.to_csv('../data/hd2019_convert.csv', index=False)"
   ]
  },
  {
   "source": [
    "## Generate synthetic customer behaviour"
   ],
   "cell_type": "markdown",
   "metadata": {}
  },
  {
   "cell_type": "code",
   "execution_count": null,
   "metadata": {},
   "outputs": [],
   "source": [
    "behaviour_column_names = ['DID_TRIAL', 'PURCHASED_PREVIOUS_PRODUCT', 'AMOUNT_OF_LICENSES',\n",
    "                          'TERM_OF_LICENSE', 'HAS_TECH_DEPT', 'AMOUNT_OF_INTERACTIONS_W_SALES',\n",
    "                          'AMOUNT_OF_CALLS', 'AMOUNT_OF_MESSAGES', 'ENGAGED_WITH_MESSAGING', \n",
    "                          'REACHED_NOT_ENGAGED_WITH_MESSAGING', 'ATTENDED_WEBINARS', 'WEBINAR_ATTENDANCE_SIZE']"
   ]
  },
  {
   "cell_type": "code",
   "execution_count": null,
   "metadata": {},
   "outputs": [],
   "source": [
    "x, y = dt.make_classification(n_samples=1000, n_features=12, n_informative=6, n_repeated=0, n_redundant=4, random_state=42)"
   ]
  },
  {
   "cell_type": "code",
   "execution_count": null,
   "metadata": {},
   "outputs": [],
   "source": [
    "df_x = pd.DataFrame(x)\n",
    "df_y = pd.DataFrame(y)"
   ]
  },
  {
   "cell_type": "code",
   "execution_count": null,
   "metadata": {},
   "outputs": [],
   "source": [
    "df_x.columns = behaviour_column_names\n",
    "df_y.columns = ['CONVERTED']"
   ]
  },
  {
   "source": [
    "## Save data to a sqlite dB for further processing"
   ],
   "cell_type": "markdown",
   "metadata": {}
  },
  {
   "cell_type": "code",
   "execution_count": null,
   "metadata": {},
   "outputs": [],
   "source": [
    "df_x.to_sql('synth_customer_behaviour_data', engine, if_exists='replace', index=False)\n",
    "df_y.to_sql('synth_customer_target_classifier_data', engine, if_exists='replace', index=False)"
   ]
  },
  {
   "cell_type": "code",
   "execution_count": null,
   "metadata": {},
   "outputs": [],
   "source": []
  }
 ]
}